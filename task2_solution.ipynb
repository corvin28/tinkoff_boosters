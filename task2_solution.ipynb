{
 "cells": [
  {
   "cell_type": "code",
   "execution_count": 1,
   "metadata": {
    "ExecuteTime": {
     "end_time": "2017-02-26T23:40:28.417281",
     "start_time": "2017-02-26T23:40:24.566164"
    },
    "collapsed": true
   },
   "outputs": [],
   "source": [
    "import pandas as pd\n",
    "import numpy as np"
   ]
  },
  {
   "cell_type": "code",
   "execution_count": 3,
   "metadata": {
    "ExecuteTime": {
     "end_time": "2017-02-26T23:40:32.407665",
     "start_time": "2017-02-26T23:40:28.584204"
    },
    "collapsed": true
   },
   "outputs": [],
   "source": [
    "import matplotlib.pyplot as plt\n",
    "import seaborn as sns"
   ]
  },
  {
   "cell_type": "code",
   "execution_count": 4,
   "metadata": {
    "ExecuteTime": {
     "end_time": "2017-02-26T23:40:32.541455",
     "start_time": "2017-02-26T23:40:32.412219"
    },
    "collapsed": true
   },
   "outputs": [],
   "source": [
    "%matplotlib inline\n",
    "plt.rcParams['figure.figsize'] = (10,7)"
   ]
  },
  {
   "cell_type": "code",
   "execution_count": 9,
   "metadata": {
    "ExecuteTime": {
     "end_time": "2017-02-26T23:42:48.343448",
     "start_time": "2017-02-26T23:42:45.667085"
    },
    "collapsed": true
   },
   "outputs": [],
   "source": [
    "dtrain = pd.read_csv('data/merchants_train.csv', encoding='cp1251', delimiter=';')\n",
    "dtest = pd.read_csv('data/merchants_test.csv', encoding='cp1251', delimiter=';')\n",
    "tract = pd.read_csv('data/transactions.csv', encoding='cp1251', delimiter=',')"
   ]
  },
  {
   "cell_type": "code",
   "execution_count": 6,
   "metadata": {
    "ExecuteTime": {
     "end_time": "2017-02-26T12:40:48.018432",
     "start_time": "2017-02-26T12:40:24.640695"
    },
    "collapsed": false
   },
   "outputs": [],
   "source": [
    "lat_mode = tract.latitude.mode().values[0]\n",
    "lon_mode = tract.longitude.mode().values[0]\n",
    "\n",
    "tract = tract[(tract.latitude != 0) | (tract.longitude != 0)]\n",
    "tract = tract[(tract.latitude != lat_mode) | (tract.longitude != lon_mode)]"
   ]
  },
  {
   "cell_type": "code",
   "execution_count": 8,
   "metadata": {
    "ExecuteTime": {
     "end_time": "2017-02-26T12:41:00.161965",
     "start_time": "2017-02-26T12:41:00.152357"
    },
    "collapsed": true
   },
   "outputs": [],
   "source": [
    "def lexsort_based_compressor(data):                 \n",
    "    sorted_data =  data[np.lexsort(data.T),:]\n",
    "    row_mask = np.append([True],np.any(np.diff(sorted_data,axis=0),1))\n",
    "    return sorted_data[row_mask]"
   ]
  },
  {
   "cell_type": "code",
   "execution_count": 9,
   "metadata": {
    "ExecuteTime": {
     "end_time": "2017-02-26T12:42:36.157456",
     "start_time": "2017-02-26T12:41:39.143499"
    },
    "collapsed": true
   },
   "outputs": [],
   "source": [
    "# добавление промежуточных точек\n",
    "new_rows = []\n",
    "for ID in tract.merchant_id.unique():\n",
    "    coords = tract.loc[tract.merchant_id == ID, ['latitude', 'longitude']].values\n",
    "    if coords.shape[0] == 1:\n",
    "        continue\n",
    "    coords = lexsort_based_compressor(coords)\n",
    "    ids = np.ones((coords.shape[0] - 1, 1), dtype=int) * ID\n",
    "    new_rows.append(np.hstack((ids, (coords[1:] + np.roll(coords, 1, axis=0)[1:]) / 2)))\n",
    "    \n",
    "new_rows = np.vstack(new_rows)"
   ]
  },
  {
   "cell_type": "code",
   "execution_count": 11,
   "metadata": {
    "ExecuteTime": {
     "end_time": "2017-02-26T12:45:32.694958",
     "start_time": "2017-02-26T12:45:32.647616"
    },
    "collapsed": true
   },
   "outputs": [],
   "source": [
    "tract = tract.append(pd.DataFrame(new_rows, columns=['merchant_id', 'latitude', 'longitude']), ignore_index=True)\n",
    "tract['merchant_id'] = tract['merchant_id'].astype(int)"
   ]
  },
  {
   "cell_type": "code",
   "execution_count": 20,
   "metadata": {
    "ExecuteTime": {
     "end_time": "2017-02-26T12:49:46.157071",
     "start_time": "2017-02-26T12:49:28.322501"
    },
    "collapsed": false
   },
   "outputs": [],
   "source": [
    "inds = np.zeros((len(tract),), dtype=int)\n",
    "train_inds = np.zeros((len(tract),), dtype=bool)\n",
    "vals = tract.merchant_id.values\n",
    "train_id = dtrain.merchant_id.unique()\n",
    "i = 0\n",
    "for elem in tract.merchant_id.unique():\n",
    "    inds[vals == elem] = i\n",
    "    i += 1\n",
    "    if elem in train_id:\n",
    "        train_inds[vals == elem] = True\n",
    "        \n",
    "inds_tr = np.zeros((np.sum(train_inds,)), dtype=int)\n",
    "train_vals = tract.merchant_id.values[train_inds]\n",
    "i = 0\n",
    "for elem in train_id:\n",
    "    inds_tr[train_vals == elem] = i\n",
    "    i += 1"
   ]
  },
  {
   "cell_type": "code",
   "execution_count": 21,
   "metadata": {
    "ExecuteTime": {
     "end_time": "2017-02-26T15:11:26.187046",
     "start_time": "2017-02-26T12:50:22.039213"
    },
    "collapsed": true
   },
   "outputs": [],
   "source": [
    "# подсчет числа соседей\n",
    "tract['neighbors_number'] = 0\n",
    "tract['neighbors_number_norm'] = 0\n",
    "for ID in tract.merchant_id.unique():\n",
    "    coords = tract.loc[tract.merchant_id == ID, ['latitude', 'longitude']].values\n",
    "    dist = np.zeros((coords.shape[0], coords.shape[0]))\n",
    "    for i in range(coords.shape[0] - 1):\n",
    "        for j in range(i + 1, coords.shape[0]):\n",
    "            dist[j, i] = dist[i, j] = float(np.all(np.abs(coords[i] - coords[j]) <= 0.002))\n",
    "    neighbors = np.sum(dist, axis=0)\n",
    "    tract.loc[tract.merchant_id == ID, 'neighbors_number'] = neighbors\n",
    "    tract.loc[tract.merchant_id == ID, 'neighbors_number_norm'] = neighbors / coords.shape[0]"
   ]
  },
  {
   "cell_type": "code",
   "execution_count": 22,
   "metadata": {
    "ExecuteTime": {
     "end_time": "2017-02-26T15:13:29.439318",
     "start_time": "2017-02-26T15:13:28.438876"
    },
    "collapsed": true
   },
   "outputs": [],
   "source": [
    "tract['lat_mean'] = tract.merchant_id.map(tract.groupby(tract.merchant_id).latitude.mean())\n",
    "tract['lat_median'] = tract.merchant_id.map(tract.groupby(tract.merchant_id).latitude.median())\n",
    "tract['lat_min'] = tract.merchant_id.map(tract.groupby(tract.merchant_id).latitude.min())\n",
    "tract['lat_max'] = tract.merchant_id.map(tract.groupby(tract.merchant_id).latitude.max())\n",
    "\n",
    "tract['lon_mean'] = tract.merchant_id.map(tract.groupby(tract.merchant_id).longitude.mean())\n",
    "tract['lon_median'] = tract.merchant_id.map(tract.groupby(tract.merchant_id).longitude.median())\n",
    "tract['lon_min'] = tract.merchant_id.map(tract.groupby(tract.merchant_id).longitude.min())\n",
    "tract['lon_max'] = tract.merchant_id.map(tract.groupby(tract.merchant_id).longitude.max())\n",
    "\n",
    "tract['lat_max_min'] = tract['lat_max'] - tract['lat_min']\n",
    "tract['lon_max_min'] = tract['lon_max'] - tract['lon_min']\n",
    "\n",
    "tract['lat_median_dist'] = np.abs(tract['latitude'].values - tract['lat_median'].values)\n",
    "tract['lat_mean_dist'] = np.abs(tract['latitude'].values - tract['lat_mean'].values)\n",
    "\n",
    "tract['lon_median_dist'] = np.abs(tract['longitude'].values - tract['lon_median'].values)\n",
    "tract['lon_mean_dist'] = np.abs(tract['longitude'].values - tract['lon_mean'].values)\n",
    "\n",
    "tract['median_dist_l2'] = tract['lat_median_dist'] ** 2 + tract['lon_median_dist'] ** 2\n",
    "\n",
    "tract['median_dist_l1'] = tract['lat_median_dist'] + tract['lon_median_dist']\n",
    "\n",
    "tract['median_dist_l1_max'] = tract[['lat_median_dist', 'lon_median_dist']].max(axis=1)\n",
    "tract['mean_dist_l1_max'] = tract[['lat_mean_dist', 'lon_mean_dist']].max(axis=1)\n",
    "\n",
    "tract['median_dist_l1_min'] = tract[['lat_median_dist', 'lon_median_dist']].min(axis=1)\n",
    "tract['mean_dist_l1_min'] = tract[['lat_mean_dist', 'lon_mean_dist']].min(axis=1)"
   ]
  },
  {
   "cell_type": "code",
   "execution_count": 24,
   "metadata": {
    "ExecuteTime": {
     "end_time": "2017-02-26T15:13:37.641496",
     "start_time": "2017-02-26T15:13:37.631396"
    },
    "collapsed": true
   },
   "outputs": [],
   "source": [
    "feature_names = ['lat_median_dist', 'lat_mean_dist', 'lon_median_dist', 'lon_mean_dist','median_dist_l2', \n",
    "                 'median_dist_l1', 'median_dist_l1_max', 'lat_max_min', 'lon_max_min',\n",
    "                 'mean_dist_l1_max', 'median_dist_l1_min', 'mean_dist_l1_min',\n",
    "                 'neighbors_number', 'neighbors_number_norm']"
   ]
  },
  {
   "cell_type": "code",
   "execution_count": 25,
   "metadata": {
    "ExecuteTime": {
     "end_time": "2017-02-26T15:14:00.393382",
     "start_time": "2017-02-26T15:14:00.115656"
    },
    "collapsed": false
   },
   "outputs": [],
   "source": [
    "X_train = tract.loc[train_inds, feature_names]\n",
    "X_test = tract.loc[np.logical_not(train_inds), feature_names]\n",
    "y_train = np.logical_and(\n",
    "    np.abs(tract.loc[train_inds, 'latitude'].values - dtrain.latitude.values[inds_tr]) <= 0.002,\n",
    "    np.abs(tract.loc[train_inds, 'longitude'].values - dtrain.longitude.values[inds_tr]) <= 0.002\n",
    ").astype(int)"
   ]
  },
  {
   "cell_type": "code",
   "execution_count": 27,
   "metadata": {
    "ExecuteTime": {
     "end_time": "2017-02-26T15:15:42.735443",
     "start_time": "2017-02-26T15:15:42.647356"
    },
    "collapsed": true
   },
   "outputs": [],
   "source": [
    "coord_test = tract.loc[np.logical_not(train_inds), ['merchant_id', 'latitude', 'longitude']]"
   ]
  },
  {
   "cell_type": "code",
   "execution_count": null,
   "metadata": {
    "collapsed": true
   },
   "outputs": [],
   "source": [
    "from xgboost.sklearn import XGBClassifier"
   ]
  },
  {
   "cell_type": "code",
   "execution_count": null,
   "metadata": {
    "collapsed": true
   },
   "outputs": [],
   "source": [
    "xgb = XGBClassifier(\n",
    " learning_rate=0.01,\n",
    " n_estimators=5000,\n",
    " max_depth=11,\n",
    " min_child_weight=1,\n",
    " gamma=0.2,\n",
    " subsample=0.8,\n",
    " colsample_bytree=0.8,\n",
    " objective='binary:logistic',\n",
    " scale_pos_weight=1,\n",
    " seed=27,\n",
    " nthread=4)\n",
    "\n",
    "xgb.fit(X_train, y_train, eval_metric='auc')\n",
    "answer = xgb.predict_proba(X_test)\n",
    "\n",
    "coord_test['p'] = answer[:, 1]"
   ]
  },
  {
   "cell_type": "code",
   "execution_count": 10,
   "metadata": {
    "ExecuteTime": {
     "end_time": "2017-02-26T23:43:33.267792",
     "start_time": "2017-02-26T23:42:55.652248"
    },
    "collapsed": false
   },
   "outputs": [],
   "source": [
    "# берем точку с наибольшей предсказанной вероятностью\n",
    "dtest['_ID_'] = dtest.merchant_id.values\n",
    "dtest['_LAT_'] = 0\n",
    "dtest['_LON_'] = 0\n",
    "\n",
    "for ID in coord_test.merchant_id.unique():\n",
    "    best_match = coord_test.loc[coord_test.merchant_id == ID, 'p'].sort_values()\n",
    "    dtest.loc[dtest.merchant_id == ID, ['_LAT_', '_LON_']] = \\\n",
    "        coord_test.loc[best_match.index.values[-1], ['latitude', 'longitude']].values\n",
    "\n",
    "dtest._LAT_.fillna(0, inplace=True)\n",
    "dtest._LON_.fillna(0, inplace=True)"
   ]
  },
  {
   "cell_type": "code",
   "execution_count": 12,
   "metadata": {
    "ExecuteTime": {
     "end_time": "2017-02-26T23:43:47.464192",
     "start_time": "2017-02-26T23:43:47.335155"
    },
    "collapsed": false
   },
   "outputs": [],
   "source": [
    "dtest[['_ID_', '_LAT_', '_LON_']].to_csv('output.csv', index=False)"
   ]
  },
  {
   "cell_type": "markdown",
   "metadata": {},
   "source": [
    "* public test: 0.2592\n",
    "* private test: 0.2732"
   ]
  }
 ],
 "metadata": {
  "anaconda-cloud": {},
  "kernelspec": {
   "display_name": "Python [default]",
   "language": "python",
   "name": "python3"
  },
  "language_info": {
   "codemirror_mode": {
    "name": "ipython",
    "version": 3
   },
   "file_extension": ".py",
   "mimetype": "text/x-python",
   "name": "python",
   "nbconvert_exporter": "python",
   "pygments_lexer": "ipython3",
   "version": "3.5.2"
  }
 },
 "nbformat": 4,
 "nbformat_minor": 1
}
