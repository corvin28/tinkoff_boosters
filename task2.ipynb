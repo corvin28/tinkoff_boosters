{
 "cells": [
  {
   "cell_type": "code",
   "execution_count": 1,
   "metadata": {
    "collapsed": true
   },
   "outputs": [],
   "source": [
    "import pandas as pd\n",
    "import numpy as np"
   ]
  },
  {
   "cell_type": "code",
   "execution_count": 2,
   "metadata": {
    "collapsed": true
   },
   "outputs": [],
   "source": [
    "from common.serialization import pickle_load, pickle_save"
   ]
  },
  {
   "cell_type": "code",
   "execution_count": 3,
   "metadata": {
    "collapsed": true
   },
   "outputs": [],
   "source": [
    "import matplotlib.pyplot as plt\n",
    "import seaborn as sns"
   ]
  },
  {
   "cell_type": "code",
   "execution_count": 4,
   "metadata": {
    "collapsed": true
   },
   "outputs": [],
   "source": [
    "%matplotlib inline\n",
    "plt.rcParams['figure.figsize'] = (10,7)"
   ]
  },
  {
   "cell_type": "code",
   "execution_count": 5,
   "metadata": {
    "collapsed": true
   },
   "outputs": [],
   "source": [
    "dtrain = pd.read_csv('data/merchants_train.csv', encoding='cp1251', delimiter=';')"
   ]
  },
  {
   "cell_type": "code",
   "execution_count": 6,
   "metadata": {
    "collapsed": true
   },
   "outputs": [],
   "source": [
    "dtest = pd.read_csv('data/merchants_test.csv', encoding='cp1251', delimiter=';')"
   ]
  },
  {
   "cell_type": "code",
   "execution_count": 7,
   "metadata": {
    "collapsed": true
   },
   "outputs": [],
   "source": [
    "tract = pd.read_csv('data/transactions.csv', encoding='cp1251', delimiter=',')"
   ]
  },
  {
   "cell_type": "code",
   "execution_count": 7,
   "metadata": {
    "collapsed": false
   },
   "outputs": [
    {
     "data": {
      "text/html": [
       "<div>\n",
       "<table border=\"1\" class=\"dataframe\">\n",
       "  <thead>\n",
       "    <tr style=\"text-align: right;\">\n",
       "      <th></th>\n",
       "      <th>merchant_id</th>\n",
       "      <th>latitude</th>\n",
       "      <th>longitude</th>\n",
       "    </tr>\n",
       "  </thead>\n",
       "  <tbody>\n",
       "    <tr>\n",
       "      <th>count</th>\n",
       "      <td>2.493530e+05</td>\n",
       "      <td>249353.000000</td>\n",
       "      <td>249353.000000</td>\n",
       "    </tr>\n",
       "    <tr>\n",
       "      <th>mean</th>\n",
       "      <td>4.441047e+05</td>\n",
       "      <td>49.761256</td>\n",
       "      <td>33.758102</td>\n",
       "    </tr>\n",
       "    <tr>\n",
       "      <th>std</th>\n",
       "      <td>2.506589e+05</td>\n",
       "      <td>17.722934</td>\n",
       "      <td>17.774541</td>\n",
       "    </tr>\n",
       "    <tr>\n",
       "      <th>min</th>\n",
       "      <td>1.780000e+02</td>\n",
       "      <td>-83.445345</td>\n",
       "      <td>-176.155650</td>\n",
       "    </tr>\n",
       "    <tr>\n",
       "      <th>25%</th>\n",
       "      <td>3.639860e+05</td>\n",
       "      <td>55.604737</td>\n",
       "      <td>30.382891</td>\n",
       "    </tr>\n",
       "    <tr>\n",
       "      <th>50%</th>\n",
       "      <td>4.102950e+05</td>\n",
       "      <td>55.750347</td>\n",
       "      <td>37.594847</td>\n",
       "    </tr>\n",
       "    <tr>\n",
       "      <th>75%</th>\n",
       "      <td>5.879220e+05</td>\n",
       "      <td>55.855153</td>\n",
       "      <td>37.661401</td>\n",
       "    </tr>\n",
       "    <tr>\n",
       "      <th>max</th>\n",
       "      <td>1.934268e+06</td>\n",
       "      <td>84.830761</td>\n",
       "      <td>171.866882</td>\n",
       "    </tr>\n",
       "  </tbody>\n",
       "</table>\n",
       "</div>"
      ],
      "text/plain": [
       "        merchant_id       latitude      longitude\n",
       "count  2.493530e+05  249353.000000  249353.000000\n",
       "mean   4.441047e+05      49.761256      33.758102\n",
       "std    2.506589e+05      17.722934      17.774541\n",
       "min    1.780000e+02     -83.445345    -176.155650\n",
       "25%    3.639860e+05      55.604737      30.382891\n",
       "50%    4.102950e+05      55.750347      37.594847\n",
       "75%    5.879220e+05      55.855153      37.661401\n",
       "max    1.934268e+06      84.830761     171.866882"
      ]
     },
     "execution_count": 7,
     "metadata": {},
     "output_type": "execute_result"
    }
   ],
   "source": [
    "tract.describe()"
   ]
  },
  {
   "cell_type": "code",
   "execution_count": 9,
   "metadata": {
    "collapsed": false
   },
   "outputs": [
    {
     "data": {
      "text/html": [
       "<div>\n",
       "<table border=\"1\" class=\"dataframe\">\n",
       "  <thead>\n",
       "    <tr style=\"text-align: right;\">\n",
       "      <th></th>\n",
       "      <th>merchant_id</th>\n",
       "      <th>latitude</th>\n",
       "      <th>longitude</th>\n",
       "    </tr>\n",
       "  </thead>\n",
       "  <tbody>\n",
       "    <tr>\n",
       "      <th>count</th>\n",
       "      <td>6.482000e+03</td>\n",
       "      <td>6482.000000</td>\n",
       "      <td>6482.000000</td>\n",
       "    </tr>\n",
       "    <tr>\n",
       "      <th>mean</th>\n",
       "      <td>5.131265e+05</td>\n",
       "      <td>56.156350</td>\n",
       "      <td>40.082500</td>\n",
       "    </tr>\n",
       "    <tr>\n",
       "      <th>std</th>\n",
       "      <td>2.728695e+05</td>\n",
       "      <td>2.912782</td>\n",
       "      <td>12.433761</td>\n",
       "    </tr>\n",
       "    <tr>\n",
       "      <th>min</th>\n",
       "      <td>1.780000e+02</td>\n",
       "      <td>40.143636</td>\n",
       "      <td>20.463191</td>\n",
       "    </tr>\n",
       "    <tr>\n",
       "      <th>25%</th>\n",
       "      <td>4.033262e+05</td>\n",
       "      <td>55.690821</td>\n",
       "      <td>37.402091</td>\n",
       "    </tr>\n",
       "    <tr>\n",
       "      <th>50%</th>\n",
       "      <td>4.236205e+05</td>\n",
       "      <td>55.775864</td>\n",
       "      <td>37.604161</td>\n",
       "    </tr>\n",
       "    <tr>\n",
       "      <th>75%</th>\n",
       "      <td>6.696330e+05</td>\n",
       "      <td>56.774367</td>\n",
       "      <td>37.844208</td>\n",
       "    </tr>\n",
       "    <tr>\n",
       "      <th>max</th>\n",
       "      <td>1.869302e+06</td>\n",
       "      <td>68.970401</td>\n",
       "      <td>142.730432</td>\n",
       "    </tr>\n",
       "  </tbody>\n",
       "</table>\n",
       "</div>"
      ],
      "text/plain": [
       "        merchant_id     latitude    longitude\n",
       "count  6.482000e+03  6482.000000  6482.000000\n",
       "mean   5.131265e+05    56.156350    40.082500\n",
       "std    2.728695e+05     2.912782    12.433761\n",
       "min    1.780000e+02    40.143636    20.463191\n",
       "25%    4.033262e+05    55.690821    37.402091\n",
       "50%    4.236205e+05    55.775864    37.604161\n",
       "75%    6.696330e+05    56.774367    37.844208\n",
       "max    1.869302e+06    68.970401   142.730432"
      ]
     },
     "execution_count": 9,
     "metadata": {},
     "output_type": "execute_result"
    }
   ],
   "source": [
    "dtrain.describe()"
   ]
  },
  {
   "cell_type": "code",
   "execution_count": 7,
   "metadata": {
    "collapsed": false
   },
   "outputs": [
    {
     "name": "stdout",
     "output_type": "stream",
     "text": [
      "<class 'pandas.core.frame.DataFrame'>\n",
      "RangeIndex: 249353 entries, 0 to 249352\n",
      "Data columns (total 5 columns):\n",
      "merchant_id              249353 non-null int64\n",
      "latitude                 249353 non-null float64\n",
      "longitude                249353 non-null float64\n",
      "real_transaction_dttm    249353 non-null object\n",
      "record_date              249353 non-null object\n",
      "dtypes: float64(2), int64(1), object(2)\n",
      "memory usage: 9.5+ MB\n"
     ]
    }
   ],
   "source": [
    "tract.info()"
   ]
  },
  {
   "cell_type": "code",
   "execution_count": 8,
   "metadata": {
    "collapsed": true
   },
   "outputs": [],
   "source": [
    "tract = tract[(tract.latitude > 38) & (tract.longitude > 19) & (tract.latitude < 70)]"
   ]
  },
  {
   "cell_type": "code",
   "execution_count": 9,
   "metadata": {
    "collapsed": false
   },
   "outputs": [],
   "source": [
    "inds = np.zeros((len(tract),), dtype=int)\n",
    "train_inds = np.zeros((len(tract),), dtype=bool)\n",
    "vals = tract.merchant_id.values\n",
    "train_id = dtrain.merchant_id.unique()\n",
    "i = 0\n",
    "for elem in tract.merchant_id.unique():\n",
    "    inds[vals == elem] = i\n",
    "    i += 1\n",
    "    if elem in train_id:\n",
    "        train_inds[vals == elem] = True\n",
    "        \n",
    "inds_tr = np.zeros((np.sum(train_inds,)), dtype=int)\n",
    "train_vals = tract.merchant_id.values[train_inds]\n",
    "i = 0\n",
    "for elem in train_id:\n",
    "    inds_tr[train_vals == elem] = i\n",
    "    i += 1"
   ]
  },
  {
   "cell_type": "code",
   "execution_count": 29,
   "metadata": {
    "collapsed": true
   },
   "outputs": [],
   "source": [
    "f = lambda x: np.array(x.split(':')).astype(int).dot(np.array([24 * 60, 60, 1]))"
   ]
  },
  {
   "cell_type": "code",
   "execution_count": 30,
   "metadata": {
    "collapsed": false
   },
   "outputs": [
    {
     "data": {
      "text/plain": [
       "9929"
      ]
     },
     "execution_count": 30,
     "metadata": {},
     "output_type": "execute_result"
    }
   ],
   "source": [
    "len(tract.groupby(tract.merchant_id).latitude.std().values)"
   ]
  },
  {
   "cell_type": "code",
   "execution_count": 32,
   "metadata": {
    "collapsed": false
   },
   "outputs": [
    {
     "data": {
      "text/plain": [
       "9929"
      ]
     },
     "execution_count": 32,
     "metadata": {},
     "output_type": "execute_result"
    }
   ],
   "source": [
    "len(tract.groupby(tract.merchant_id).latitude.min().values)"
   ]
  },
  {
   "cell_type": "code",
   "execution_count": 10,
   "metadata": {
    "collapsed": true
   },
   "outputs": [],
   "source": [
    "tract['lat_mean'] = tract.groupby(tract.merchant_id).latitude.mean().values[inds]\n",
    "tract['lat_median'] = tract.groupby(tract.merchant_id).latitude.median().values[inds]\n",
    "tract['lat_min'] = tract.groupby(tract.merchant_id).latitude.min().values[inds]\n",
    "tract['lat_max'] = tract.groupby(tract.merchant_id).latitude.max().values[inds]\n",
    "tract['lat_std'] = tract.groupby(tract.merchant_id).latitude.std().values[inds]\n",
    "\n",
    "tract['lon_mean'] = tract.groupby(tract.merchant_id).longitude.mean().values[inds]\n",
    "tract['lon_median'] = tract.groupby(tract.merchant_id).longitude.median().values[inds]\n",
    "tract['lon_min'] = tract.groupby(tract.merchant_id).longitude.min().values[inds]\n",
    "tract['lon_max'] = tract.groupby(tract.merchant_id).longitude.max().values[inds]\n",
    "tract['lon_std'] = tract.groupby(tract.merchant_id).longitude.std().values[inds]"
   ]
  },
  {
   "cell_type": "code",
   "execution_count": 11,
   "metadata": {
    "collapsed": true
   },
   "outputs": [],
   "source": [
    "#tract = tract[np.logical_and((np.abs(tract.latitude.values - tract.lat_median.values) < 3 * tract.lat_std.values),\n",
    "#              (np.abs(tract.longitude.values - tract.lon_median.values) < 3 * tract.lon_std.values))]"
   ]
  },
  {
   "cell_type": "code",
   "execution_count": 12,
   "metadata": {
    "collapsed": true
   },
   "outputs": [],
   "source": [
    "inds = np.zeros((len(tract),), dtype=int)\n",
    "train_inds = np.zeros((len(tract),), dtype=bool)\n",
    "vals = tract.merchant_id.values\n",
    "train_id = dtrain.merchant_id.unique()\n",
    "i = 0\n",
    "for elem in tract.merchant_id.unique():\n",
    "    inds[vals == elem] = i\n",
    "    i += 1\n",
    "    if elem in train_id:\n",
    "        train_inds[vals == elem] = True\n",
    "        \n",
    "inds_tr = np.zeros((np.sum(train_inds,)), dtype=int)\n",
    "train_vals = tract.merchant_id.values[train_inds]\n",
    "i = 0\n",
    "for elem in train_id:\n",
    "    inds_tr[train_vals == elem] = i\n",
    "    i += 1\n",
    "    \n",
    "tract['lat_mean'] = tract.groupby(tract.merchant_id).latitude.mean().values[inds]\n",
    "tract['lat_median'] = tract.groupby(tract.merchant_id).latitude.median().values[inds]\n",
    "tract['lat_min'] = tract.groupby(tract.merchant_id).latitude.min().values[inds]\n",
    "tract['lat_max'] = tract.groupby(tract.merchant_id).latitude.max().values[inds]\n",
    "tract['lat_std'] = tract.groupby(tract.merchant_id).latitude.std().values[inds]\n",
    "\n",
    "tract['lon_mean'] = tract.groupby(tract.merchant_id).longitude.mean().values[inds]\n",
    "tract['lon_median'] = tract.groupby(tract.merchant_id).longitude.median().values[inds]\n",
    "tract['lon_min'] = tract.groupby(tract.merchant_id).longitude.min().values[inds]\n",
    "tract['lon_max'] = tract.groupby(tract.merchant_id).longitude.max().values[inds]\n",
    "tract['lon_std'] = tract.groupby(tract.merchant_id).longitude.std().values[inds]"
   ]
  },
  {
   "cell_type": "code",
   "execution_count": 11,
   "metadata": {
    "collapsed": true
   },
   "outputs": [],
   "source": [
    "lat_max_min = tract['lat_max'] - tract['lat_min']\n",
    "lon_max_min = tract['lon_max'] - tract['lon_min']\n",
    "lat_max_min[lat_max_min == 0] = 1\n",
    "lon_max_min[lon_max_min == 0] = 1\n",
    "\n",
    "tract['lat_median_dist'] = np.abs(tract['latitude'].values - tract['lat_median'].values)\n",
    "tract['lat_median_dist_norm'] = tract['lat_median_dist'] / lat_max_min\n",
    "tract['lat_mean_dist'] = np.abs(tract['latitude'].values - tract['lat_mean'].values)\n",
    "tract['lat_mean_dist_norm'] = tract['lat_mean_dist'] / lat_max_min\n",
    "\n",
    "tract['lon_median_dist'] = np.abs(tract['longitude'].values - tract['lon_median'].values)\n",
    "tract['lon_median_dist_norm'] = tract['lon_median_dist'] / lon_max_min\n",
    "tract['lon_mean_dist'] = np.abs(tract['longitude'].values - tract['lon_mean'].values)\n",
    "tract['lon_mean_dist_norm'] = tract['lon_mean_dist'] / lon_max_min\n",
    "\n",
    "tract['median_dist_l2'] = tract['lat_median_dist'] ** 2 + tract['lon_median_dist'] ** 2\n",
    "tract['median_dist_l2_norm'] = tract['median_dist_l2'] / (lat_max_min ** 2 + lon_max_min ** 2)\n",
    "\n",
    "tract['median_dist_l1'] = tract['lat_median_dist'] + tract['lon_median_dist']\n",
    "tract['median_dist_l1_norm'] = tract['median_dist_l1'] / (lat_max_min + lon_max_min)\n",
    "\n",
    "tract['in_median_rec2'] = (tract['lat_median_dist'] < 0.002) & (tract['lon_median_dist'] < 0.002)\n",
    "tract['in_median_rec4'] = (tract['lat_median_dist'] < 0.004) & (tract['lon_median_dist'] < 0.004)"
   ]
  },
  {
   "cell_type": "code",
   "execution_count": 46,
   "metadata": {
    "collapsed": false
   },
   "outputs": [
    {
     "data": {
      "text/plain": [
       "array([0, 0, 0, 0, 0, 0, 0, 0, 0, 0, 0, 0, 0, 0, 0, 0, 0, 0, 0, 0, 0, 0, 0,\n",
       "       0, 0, 0, 0, 0, 0, 0])"
      ]
     },
     "execution_count": 46,
     "metadata": {},
     "output_type": "execute_result"
    }
   ],
   "source": [
    "y_train[-30:]"
   ]
  },
  {
   "cell_type": "code",
   "execution_count": 43,
   "metadata": {
    "collapsed": false
   },
   "outputs": [
    {
     "data": {
      "text/plain": [
       "142762"
      ]
     },
     "execution_count": 43,
     "metadata": {},
     "output_type": "execute_result"
    }
   ],
   "source": [
    "len(y_train)"
   ]
  },
  {
   "cell_type": "code",
   "execution_count": 40,
   "metadata": {
    "collapsed": false
   },
   "outputs": [
    {
     "data": {
      "text/plain": [
       "array([[ 1.        ,  0.12108473],\n",
       "       [ 0.12108473,  1.        ]])"
      ]
     },
     "execution_count": 40,
     "metadata": {},
     "output_type": "execute_result"
    }
   ],
   "source": [
    "np.corrcoef(tract.loc[train_inds].in_median_rec2.values, y_train)"
   ]
  },
  {
   "cell_type": "code",
   "execution_count": 44,
   "metadata": {
    "collapsed": false
   },
   "outputs": [
    {
     "data": {
      "text/plain": [
       "1          True\n",
       "3          True\n",
       "4          True\n",
       "7          True\n",
       "8         False\n",
       "9         False\n",
       "10        False\n",
       "11        False\n",
       "12        False\n",
       "13         True\n",
       "14        False\n",
       "16        False\n",
       "18        False\n",
       "19         True\n",
       "20        False\n",
       "21        False\n",
       "22        False\n",
       "23        False\n",
       "24        False\n",
       "25        False\n",
       "26        False\n",
       "27        False\n",
       "28        False\n",
       "29         True\n",
       "30        False\n",
       "31        False\n",
       "32        False\n",
       "33         True\n",
       "34        False\n",
       "35        False\n",
       "          ...  \n",
       "249309    False\n",
       "249310    False\n",
       "249311    False\n",
       "249312    False\n",
       "249313    False\n",
       "249315    False\n",
       "249316    False\n",
       "249317    False\n",
       "249318    False\n",
       "249319    False\n",
       "249320    False\n",
       "249321    False\n",
       "249322     True\n",
       "249323    False\n",
       "249324     True\n",
       "249325     True\n",
       "249326     True\n",
       "249327     True\n",
       "249328     True\n",
       "249329     True\n",
       "249330     True\n",
       "249331     True\n",
       "249332     True\n",
       "249333     True\n",
       "249334    False\n",
       "249335    False\n",
       "249336    False\n",
       "249338    False\n",
       "249339    False\n",
       "249340    False\n",
       "Name: in_median_rec2, dtype: bool"
      ]
     },
     "execution_count": 44,
     "metadata": {},
     "output_type": "execute_result"
    }
   ],
   "source": [
    "tract.loc[train_inds, 'in_median_rec2']"
   ]
  },
  {
   "cell_type": "code",
   "execution_count": 12,
   "metadata": {
    "collapsed": true
   },
   "outputs": [],
   "source": [
    "feature_names = ['lat_median_dist', 'lat_mean_dist', 'lon_median_dist', 'lon_mean_dist','median_dist_l2', \n",
    "                 'median_dist_l1', 'in_median_rec2', 'in_median_rec4', 'lat_std', 'lon_std']"
   ]
  },
  {
   "cell_type": "code",
   "execution_count": 13,
   "metadata": {
    "collapsed": false
   },
   "outputs": [],
   "source": [
    "X_train = tract.loc[train_inds, feature_names]\n",
    "X_test = tract.loc[np.logical_not(train_inds), feature_names]\n",
    "y_train = np.logical_and(\n",
    "    np.abs(tract.loc[train_inds, 'latitude'].values - dtrain.latitude.values[inds_tr]) <= 0.002,\n",
    "    np.abs(tract.loc[train_inds, 'longitude'].values - dtrain.longitude.values[inds_tr]) <= 0.002\n",
    ").astype(int)"
   ]
  },
  {
   "cell_type": "code",
   "execution_count": 14,
   "metadata": {
    "collapsed": true
   },
   "outputs": [],
   "source": [
    "coord_test = tract.loc[np.logical_not(train_inds), ['merchant_id', 'latitude', 'longitude']]"
   ]
  },
  {
   "cell_type": "code",
   "execution_count": 14,
   "metadata": {
    "collapsed": true
   },
   "outputs": [],
   "source": [
    "pickle_save(X_train, 'data/task2_data/dtrain.pkl')\n",
    "pickle_save(X_test, 'data/task2_data/dtest.pkl')\n",
    "pickle_save(y_train, 'data/task2_data/y_train.pkl')\n",
    "pickle_save(tract.loc[np.logical_not(train_inds), 'merchant_id'], 'data/task2_data/_ID_.pkl')"
   ]
  },
  {
   "cell_type": "code",
   "execution_count": 15,
   "metadata": {
    "collapsed": true
   },
   "outputs": [],
   "source": [
    "feat_imp = pd.read_csv('task2_outputs/feat_imp2_2.csv', header=None)"
   ]
  },
  {
   "cell_type": "code",
   "execution_count": 16,
   "metadata": {
    "collapsed": false
   },
   "outputs": [
    {
     "data": {
      "text/html": [
       "<div>\n",
       "<table border=\"1\" class=\"dataframe\">\n",
       "  <thead>\n",
       "    <tr style=\"text-align: right;\">\n",
       "      <th></th>\n",
       "      <th>0</th>\n",
       "      <th>1</th>\n",
       "    </tr>\n",
       "  </thead>\n",
       "  <tbody>\n",
       "    <tr>\n",
       "      <th>0</th>\n",
       "      <td>in_median_rec2</td>\n",
       "      <td>14.098823</td>\n",
       "    </tr>\n",
       "    <tr>\n",
       "      <th>1</th>\n",
       "      <td>median_dist_l1</td>\n",
       "      <td>9.302887</td>\n",
       "    </tr>\n",
       "    <tr>\n",
       "      <th>2</th>\n",
       "      <td>median_dist_l2</td>\n",
       "      <td>5.921181</td>\n",
       "    </tr>\n",
       "    <tr>\n",
       "      <th>3</th>\n",
       "      <td>lon_median_dist</td>\n",
       "      <td>4.867092</td>\n",
       "    </tr>\n",
       "    <tr>\n",
       "      <th>4</th>\n",
       "      <td>lat_median_dist</td>\n",
       "      <td>4.860608</td>\n",
       "    </tr>\n",
       "    <tr>\n",
       "      <th>5</th>\n",
       "      <td>lon_std</td>\n",
       "      <td>4.667937</td>\n",
       "    </tr>\n",
       "    <tr>\n",
       "      <th>6</th>\n",
       "      <td>lat_std</td>\n",
       "      <td>4.207646</td>\n",
       "    </tr>\n",
       "    <tr>\n",
       "      <th>7</th>\n",
       "      <td>lat_mean_dist</td>\n",
       "      <td>4.049809</td>\n",
       "    </tr>\n",
       "    <tr>\n",
       "      <th>8</th>\n",
       "      <td>lon_mean_dist</td>\n",
       "      <td>3.949497</td>\n",
       "    </tr>\n",
       "    <tr>\n",
       "      <th>9</th>\n",
       "      <td>in_median_rec4</td>\n",
       "      <td>3.447172</td>\n",
       "    </tr>\n",
       "  </tbody>\n",
       "</table>\n",
       "</div>"
      ],
      "text/plain": [
       "                 0          1\n",
       "0   in_median_rec2  14.098823\n",
       "1   median_dist_l1   9.302887\n",
       "2   median_dist_l2   5.921181\n",
       "3  lon_median_dist   4.867092\n",
       "4  lat_median_dist   4.860608\n",
       "5          lon_std   4.667937\n",
       "6          lat_std   4.207646\n",
       "7    lat_mean_dist   4.049809\n",
       "8    lon_mean_dist   3.949497\n",
       "9   in_median_rec4   3.447172"
      ]
     },
     "execution_count": 16,
     "metadata": {},
     "output_type": "execute_result"
    }
   ],
   "source": [
    "feat_imp.head(10)"
   ]
  },
  {
   "cell_type": "code",
   "execution_count": 17,
   "metadata": {
    "collapsed": false
   },
   "outputs": [],
   "source": [
    "prob = pd.read_csv('task2_outputs/output_xgboost2_2.csv')"
   ]
  },
  {
   "cell_type": "code",
   "execution_count": 20,
   "metadata": {
    "collapsed": false
   },
   "outputs": [],
   "source": [
    "coord_test['p'] = prob._VAL_.values"
   ]
  },
  {
   "cell_type": "code",
   "execution_count": 18,
   "metadata": {
    "collapsed": false
   },
   "outputs": [],
   "source": [
    "a = prob.groupby(prob._ID_)._VAL_.max()"
   ]
  },
  {
   "cell_type": "code",
   "execution_count": 19,
   "metadata": {
    "collapsed": false
   },
   "outputs": [
    {
     "data": {
      "text/plain": [
       "3500"
      ]
     },
     "execution_count": 19,
     "metadata": {},
     "output_type": "execute_result"
    }
   ],
   "source": [
    "len(prob.groupby(prob._ID_))"
   ]
  },
  {
   "cell_type": "code",
   "execution_count": 28,
   "metadata": {
    "collapsed": false
   },
   "outputs": [
    {
     "data": {
      "text/plain": [
       "3524"
      ]
     },
     "execution_count": 28,
     "metadata": {},
     "output_type": "execute_result"
    }
   ],
   "source": [
    "len(lat_med)"
   ]
  },
  {
   "cell_type": "code",
   "execution_count": 21,
   "metadata": {
    "collapsed": false
   },
   "outputs": [],
   "source": [
    "lat_med = tract.groupby(tract.merchant_id).latitude.median()[dtest.merchant_id.values].values\n",
    "lon_med = tract.groupby(tract.merchant_id).longitude.median()[dtest.merchant_id.values].values\n",
    "dtest['_ID_'] = dtest.merchant_id.values\n",
    "dtest['_LAT_'] = lat_med\n",
    "dtest['_LON_'] = lon_med\n",
    "for ID, val in zip(a.index.values, a.values):\n",
    "    c = coord_test.loc[coord_test.loc[coord_test.merchant_id == ID, 'p'].argmax(), ['latitude', 'longitude']].values\n",
    "    dtest.loc[dtest.merchant_id == ID, '_LAT_'] = c[0]\n",
    "    dtest.loc[dtest.merchant_id == ID, '_LON_'] = c[1]\n",
    "\n",
    "dtest._LAT_.fillna(0, inplace=True)\n",
    "dtest._LON_.fillna(0, inplace=True)"
   ]
  },
  {
   "cell_type": "code",
   "execution_count": 27,
   "metadata": {
    "collapsed": true
   },
   "outputs": [],
   "source": [
    "dtest2 = pd.read_csv('task2_outputs/output1.csv')"
   ]
  },
  {
   "cell_type": "code",
   "execution_count": 29,
   "metadata": {
    "collapsed": false
   },
   "outputs": [
    {
     "data": {
      "text/plain": [
       "0        True\n",
       "1       False\n",
       "2        True\n",
       "3        True\n",
       "4       False\n",
       "5       False\n",
       "6       False\n",
       "7       False\n",
       "8       False\n",
       "9       False\n",
       "10      False\n",
       "11      False\n",
       "12      False\n",
       "13       True\n",
       "14      False\n",
       "15      False\n",
       "16      False\n",
       "17      False\n",
       "18       True\n",
       "19      False\n",
       "20       True\n",
       "21       True\n",
       "22       True\n",
       "23      False\n",
       "24       True\n",
       "25      False\n",
       "26      False\n",
       "27      False\n",
       "28      False\n",
       "29       True\n",
       "        ...  \n",
       "3494    False\n",
       "3495     True\n",
       "3496    False\n",
       "3497    False\n",
       "3498     True\n",
       "3499     True\n",
       "3500    False\n",
       "3501    False\n",
       "3502     True\n",
       "3503     True\n",
       "3504    False\n",
       "3505    False\n",
       "3506    False\n",
       "3507     True\n",
       "3508    False\n",
       "3509    False\n",
       "3510    False\n",
       "3511    False\n",
       "3512    False\n",
       "3513     True\n",
       "3514     True\n",
       "3515     True\n",
       "3516    False\n",
       "3517     True\n",
       "3518     True\n",
       "3519    False\n",
       "3520     True\n",
       "3521     True\n",
       "3522    False\n",
       "3523     True\n",
       "Name: _LAT_, dtype: bool"
      ]
     },
     "execution_count": 29,
     "metadata": {},
     "output_type": "execute_result"
    }
   ],
   "source": [
    "dtest2._LAT_ != dtest._LAT_"
   ]
  },
  {
   "cell_type": "code",
   "execution_count": 35,
   "metadata": {
    "collapsed": false
   },
   "outputs": [
    {
     "data": {
      "text/html": [
       "<div>\n",
       "<table border=\"1\" class=\"dataframe\">\n",
       "  <thead>\n",
       "    <tr style=\"text-align: right;\">\n",
       "      <th></th>\n",
       "      <th>merchant_id</th>\n",
       "      <th>latitude</th>\n",
       "      <th>longitude</th>\n",
       "      <th>_ID_</th>\n",
       "      <th>_LAT_</th>\n",
       "      <th>_LON_</th>\n",
       "    </tr>\n",
       "  </thead>\n",
       "  <tbody>\n",
       "    <tr>\n",
       "      <th>0</th>\n",
       "      <td>361</td>\n",
       "      <td>NaN</td>\n",
       "      <td>NaN</td>\n",
       "      <td>361</td>\n",
       "      <td>56.824988</td>\n",
       "      <td>60.675723</td>\n",
       "    </tr>\n",
       "    <tr>\n",
       "      <th>1</th>\n",
       "      <td>428</td>\n",
       "      <td>NaN</td>\n",
       "      <td>NaN</td>\n",
       "      <td>428</td>\n",
       "      <td>55.691750</td>\n",
       "      <td>37.535619</td>\n",
       "    </tr>\n",
       "    <tr>\n",
       "      <th>2</th>\n",
       "      <td>490</td>\n",
       "      <td>NaN</td>\n",
       "      <td>NaN</td>\n",
       "      <td>490</td>\n",
       "      <td>59.925744</td>\n",
       "      <td>30.314490</td>\n",
       "    </tr>\n",
       "    <tr>\n",
       "      <th>3</th>\n",
       "      <td>1175</td>\n",
       "      <td>NaN</td>\n",
       "      <td>NaN</td>\n",
       "      <td>1175</td>\n",
       "      <td>55.740985</td>\n",
       "      <td>37.626249</td>\n",
       "    </tr>\n",
       "    <tr>\n",
       "      <th>4</th>\n",
       "      <td>1239</td>\n",
       "      <td>NaN</td>\n",
       "      <td>NaN</td>\n",
       "      <td>1239</td>\n",
       "      <td>55.800972</td>\n",
       "      <td>37.543166</td>\n",
       "    </tr>\n",
       "    <tr>\n",
       "      <th>5</th>\n",
       "      <td>1476</td>\n",
       "      <td>NaN</td>\n",
       "      <td>NaN</td>\n",
       "      <td>1476</td>\n",
       "      <td>59.908242</td>\n",
       "      <td>30.483399</td>\n",
       "    </tr>\n",
       "    <tr>\n",
       "      <th>6</th>\n",
       "      <td>1601</td>\n",
       "      <td>NaN</td>\n",
       "      <td>NaN</td>\n",
       "      <td>1601</td>\n",
       "      <td>59.944429</td>\n",
       "      <td>30.273260</td>\n",
       "    </tr>\n",
       "    <tr>\n",
       "      <th>7</th>\n",
       "      <td>1628</td>\n",
       "      <td>NaN</td>\n",
       "      <td>NaN</td>\n",
       "      <td>1628</td>\n",
       "      <td>43.446689</td>\n",
       "      <td>39.950644</td>\n",
       "    </tr>\n",
       "    <tr>\n",
       "      <th>8</th>\n",
       "      <td>1676</td>\n",
       "      <td>NaN</td>\n",
       "      <td>NaN</td>\n",
       "      <td>1676</td>\n",
       "      <td>46.339428</td>\n",
       "      <td>48.023002</td>\n",
       "    </tr>\n",
       "    <tr>\n",
       "      <th>9</th>\n",
       "      <td>1916</td>\n",
       "      <td>NaN</td>\n",
       "      <td>NaN</td>\n",
       "      <td>1916</td>\n",
       "      <td>56.303634</td>\n",
       "      <td>43.946093</td>\n",
       "    </tr>\n",
       "  </tbody>\n",
       "</table>\n",
       "</div>"
      ],
      "text/plain": [
       "   merchant_id  latitude  longitude  _ID_      _LAT_      _LON_\n",
       "0          361       NaN        NaN   361  56.824988  60.675723\n",
       "1          428       NaN        NaN   428  55.691750  37.535619\n",
       "2          490       NaN        NaN   490  59.925744  30.314490\n",
       "3         1175       NaN        NaN  1175  55.740985  37.626249\n",
       "4         1239       NaN        NaN  1239  55.800972  37.543166\n",
       "5         1476       NaN        NaN  1476  59.908242  30.483399\n",
       "6         1601       NaN        NaN  1601  59.944429  30.273260\n",
       "7         1628       NaN        NaN  1628  43.446689  39.950644\n",
       "8         1676       NaN        NaN  1676  46.339428  48.023002\n",
       "9         1916       NaN        NaN  1916  56.303634  43.946093"
      ]
     },
     "execution_count": 35,
     "metadata": {},
     "output_type": "execute_result"
    }
   ],
   "source": [
    "dtest.head(10)"
   ]
  },
  {
   "cell_type": "code",
   "execution_count": 36,
   "metadata": {
    "collapsed": false
   },
   "outputs": [
    {
     "data": {
      "text/html": [
       "<div>\n",
       "<table border=\"1\" class=\"dataframe\">\n",
       "  <thead>\n",
       "    <tr style=\"text-align: right;\">\n",
       "      <th></th>\n",
       "      <th>_ID_</th>\n",
       "      <th>_LAT_</th>\n",
       "      <th>_LON_</th>\n",
       "    </tr>\n",
       "  </thead>\n",
       "  <tbody>\n",
       "    <tr>\n",
       "      <th>0</th>\n",
       "      <td>361</td>\n",
       "      <td>56.807831</td>\n",
       "      <td>60.611228</td>\n",
       "    </tr>\n",
       "    <tr>\n",
       "      <th>1</th>\n",
       "      <td>428</td>\n",
       "      <td>55.691750</td>\n",
       "      <td>37.535619</td>\n",
       "    </tr>\n",
       "    <tr>\n",
       "      <th>2</th>\n",
       "      <td>490</td>\n",
       "      <td>59.875699</td>\n",
       "      <td>30.361785</td>\n",
       "    </tr>\n",
       "    <tr>\n",
       "      <th>3</th>\n",
       "      <td>1175</td>\n",
       "      <td>55.743663</td>\n",
       "      <td>37.565374</td>\n",
       "    </tr>\n",
       "    <tr>\n",
       "      <th>4</th>\n",
       "      <td>1239</td>\n",
       "      <td>55.800972</td>\n",
       "      <td>37.543166</td>\n",
       "    </tr>\n",
       "    <tr>\n",
       "      <th>5</th>\n",
       "      <td>1476</td>\n",
       "      <td>59.908242</td>\n",
       "      <td>30.483399</td>\n",
       "    </tr>\n",
       "    <tr>\n",
       "      <th>6</th>\n",
       "      <td>1601</td>\n",
       "      <td>59.944429</td>\n",
       "      <td>30.273260</td>\n",
       "    </tr>\n",
       "    <tr>\n",
       "      <th>7</th>\n",
       "      <td>1628</td>\n",
       "      <td>43.446689</td>\n",
       "      <td>39.950644</td>\n",
       "    </tr>\n",
       "    <tr>\n",
       "      <th>8</th>\n",
       "      <td>1676</td>\n",
       "      <td>46.339428</td>\n",
       "      <td>48.023002</td>\n",
       "    </tr>\n",
       "    <tr>\n",
       "      <th>9</th>\n",
       "      <td>1916</td>\n",
       "      <td>56.303634</td>\n",
       "      <td>43.946094</td>\n",
       "    </tr>\n",
       "  </tbody>\n",
       "</table>\n",
       "</div>"
      ],
      "text/plain": [
       "   _ID_      _LAT_      _LON_\n",
       "0   361  56.807831  60.611228\n",
       "1   428  55.691750  37.535619\n",
       "2   490  59.875699  30.361785\n",
       "3  1175  55.743663  37.565374\n",
       "4  1239  55.800972  37.543166\n",
       "5  1476  59.908242  30.483399\n",
       "6  1601  59.944429  30.273260\n",
       "7  1628  43.446689  39.950644\n",
       "8  1676  46.339428  48.023002\n",
       "9  1916  56.303634  43.946094"
      ]
     },
     "execution_count": 36,
     "metadata": {},
     "output_type": "execute_result"
    }
   ],
   "source": [
    "dtest2.head(10)"
   ]
  },
  {
   "cell_type": "code",
   "execution_count": 22,
   "metadata": {
    "collapsed": false
   },
   "outputs": [
    {
     "name": "stdout",
     "output_type": "stream",
     "text": [
      "<class 'pandas.core.frame.DataFrame'>\n",
      "RangeIndex: 3524 entries, 0 to 3523\n",
      "Data columns (total 6 columns):\n",
      "merchant_id    3524 non-null int64\n",
      "latitude       0 non-null float64\n",
      "longitude      0 non-null float64\n",
      "_ID_           3524 non-null int64\n",
      "_LAT_          3524 non-null float64\n",
      "_LON_          3524 non-null float64\n",
      "dtypes: float64(4), int64(2)\n",
      "memory usage: 165.3 KB\n"
     ]
    }
   ],
   "source": [
    "dtest.info()"
   ]
  },
  {
   "cell_type": "code",
   "execution_count": null,
   "metadata": {
    "collapsed": true
   },
   "outputs": [],
   "source": [
    "dtest"
   ]
  },
  {
   "cell_type": "code",
   "execution_count": 47,
   "metadata": {
    "collapsed": false
   },
   "outputs": [],
   "source": [
    "dtest[['_ID_', '_LAT_', '_LON_']].to_csv('task2_outputs/output2_2.csv', index=False)"
   ]
  },
  {
   "cell_type": "code",
   "execution_count": 64,
   "metadata": {
    "collapsed": false
   },
   "outputs": [],
   "source": [
    "lat_mean = tract.groupby(tract.merchant_id).latitude.mean()[dtrain.merchant_id.values].values\n",
    "lon_mean = tract.groupby(tract.merchant_id).longitude.mean()[dtrain.merchant_id.values].values"
   ]
  },
  {
   "cell_type": "code",
   "execution_count": 65,
   "metadata": {
    "collapsed": true
   },
   "outputs": [],
   "source": [
    "lat_med = tract.groupby(tract.merchant_id).latitude.median()[dtrain.merchant_id.values].values\n",
    "lon_med = tract.groupby(tract.merchant_id).longitude.median()[dtrain.merchant_id.values].values"
   ]
  },
  {
   "cell_type": "code",
   "execution_count": 82,
   "metadata": {
    "collapsed": false
   },
   "outputs": [],
   "source": [
    "dtest['_ID_'] = dtest.merchant_id\n",
    "lat_med = tract.groupby(tract.merchant_id).latitude.median()[dtest.merchant_id.values].values\n",
    "lon_med = tract.groupby(tract.merchant_id).longitude.median()[dtest.merchant_id.values].values\n",
    "dtest['_LAT_'] = lat_med\n",
    "dtest['_LON_'] = lon_med\n",
    "dtest._LAT_.fillna(0, inplace=True)\n",
    "dtest._LON_.fillna(0, inplace=True)\n",
    "del dtest['merchant_id']\n",
    "del dtest['latitude']\n",
    "del dtest['longitude']"
   ]
  },
  {
   "cell_type": "code",
   "execution_count": 84,
   "metadata": {
    "collapsed": false
   },
   "outputs": [],
   "source": [
    "dtest.to_csv('task2_outputs/output_median.csv', index=False)"
   ]
  },
  {
   "cell_type": "code",
   "execution_count": 19,
   "metadata": {
    "collapsed": true
   },
   "outputs": [],
   "source": [
    "tract['real_latitude'] = 0\n",
    "for ID, lat in dtrain[['merchant_id', 'latitude']].values:\n",
    "    tract.loc[tract.merchant_id == ID, 'real_latitude'] = lat"
   ]
  },
  {
   "cell_type": "code",
   "execution_count": 21,
   "metadata": {
    "collapsed": true
   },
   "outputs": [],
   "source": [
    "?np.corrcoef"
   ]
  },
  {
   "cell_type": "markdown",
   "metadata": {},
   "source": [
    "* сводить к бинарной классификации\n",
    "* выкинуть самое частое"
   ]
  },
  {
   "cell_type": "markdown",
   "metadata": {},
   "source": [
    "1\n",
    "* ['lat_median_dist', 'lat_mean_dist', 'lon_median_dist', 'lon_mean_dist',\n",
    "   'median_dist_l2', 'median_dist_l1']\n",
    "* {'seed': 27, 'min_child_weight': 1, 'gamma': 0.0, 'learning_rate': 0.01, 'reg_lambda': 1, 'colsample_bytree': 0.8, 'subsample': 0.8, 'base_score': 0.5, 'max_delta_step': 0, 'silent': 1, 'colsample_bylevel': 1, 'reg_alpha': 0, 'max_depth': 5, 'nthread': 4, 'missing': None, 'objective': 'binary:logistic', 'scale_pos_weight': 1, 'n_estimators': 5000}\n",
    "* max_depth можно побольше\n",
    "* validation - 0.158518 logloss предсказывание попадания в прямоугольник\n",
    "* test - 0.1902\n"
   ]
  },
  {
   "cell_type": "markdown",
   "metadata": {},
   "source": [
    "2\n",
    "* ['lat_median_dist', 'lat_mean_dist', 'lon_median_dist', 'lon_mean_dist','median_dist_l2', \n",
    "   'median_dist_l1', 'in_median_rec2', 'in_median_rec4', 'lat_std', 'lon_std']\n",
    "* tract = tract[np.logical_and((np.abs(tract.latitude.values - tract.lat_median.values) < 3 *  tract.lat_std.values),\n",
    " (np.abs(tract.longitude.values - tract.lon_median.values) < 3 * tract.lon_std.values))]\n",
    "\n",
    "* {'colsample_bylevel': 1, 'reg_alpha': 0, 'base_score': 0.5, 'min_child_weight': 1, 'nthread': 4, 'colsample_bytree': 0.8, 'silent': 1, 'learning_rate': 0.01, 'reg_lambda': 1, 'max_delta_step': 0, 'max_depth': 9, 'subsample': 0.8, 'objective': 'binary:logistic', 'missing': None, 'scale_pos_weight': 1, 'n_estimators': 5000, 'gamma': 0.0, 'seed': 27}\n",
    "* maxdepth можно больше\n",
    "* validation - 0.105192 0.002144\n",
    "* test - 0.1873"
   ]
  },
  {
   "cell_type": "markdown",
   "metadata": {},
   "source": [
    "2_2\n",
    "* ['lat_median_dist', 'lat_mean_dist', 'lon_median_dist', 'lon_mean_dist','median_dist_l2', \n",
    "   'median_dist_l1', 'in_median_rec2', 'in_median_rec4', 'lat_std', 'lon_std']\n",
    "* {'colsample_bylevel': 1, 'reg_alpha': 0, 'base_score': 0.5, 'min_child_weight': 1, 'nthread': 4, 'colsample_bytree': 0.8, 'silent': 1, 'learning_rate': 0.01, 'reg_lambda': 1, 'max_delta_step': 0, 'max_depth': 9, 'subsample': 0.8, 'objective': 'binary:logistic', 'missing': None, 'scale_pos_weight': 1, 'n_estimators': 5000, 'gamma': 0.0, 'seed': 27}\n",
    "* maxdepth можно больше\n",
    "* validation - 0.102746 0.002802\n",
    "* test - 0.1854"
   ]
  }
 ],
 "metadata": {
  "anaconda-cloud": {},
  "kernelspec": {
   "display_name": "Python [default]",
   "language": "python",
   "name": "python3"
  },
  "language_info": {
   "codemirror_mode": {
    "name": "ipython",
    "version": 3
   },
   "file_extension": ".py",
   "mimetype": "text/x-python",
   "name": "python",
   "nbconvert_exporter": "python",
   "pygments_lexer": "ipython3",
   "version": "3.5.2"
  }
 },
 "nbformat": 4,
 "nbformat_minor": 1
}
