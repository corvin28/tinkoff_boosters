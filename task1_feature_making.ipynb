{
 "cells": [
  {
   "cell_type": "code",
   "execution_count": 1,
   "metadata": {
    "collapsed": false
   },
   "outputs": [],
   "source": [
    "import pandas as pd\n",
    "import numpy as np\n",
    "\n",
    "from common.serialization import pickle_save, pickle_load\n",
    "\n",
    "from feature_pr import * #make_counters, make_counters_test, compress_vals, replace_val, make_pairs"
   ]
  },
  {
   "cell_type": "code",
   "execution_count": 2,
   "metadata": {
    "collapsed": true
   },
   "outputs": [],
   "source": [
    "data = pd.read_csv('data/credit_train.csv', sep=';', encoding='cp1251')\n",
    "data_test = pd.read_csv('data/credit_test.csv', sep=';', encoding='cp1251')"
   ]
  },
  {
   "cell_type": "code",
   "execution_count": 3,
   "metadata": {
    "collapsed": true
   },
   "outputs": [],
   "source": [
    "a = ['РЕСП', 'ОБЛ', 'ОБЛАСТЬ', 'КРАЙ', 'ОБЛ.', 'РЕСП.', 'Р-Н', 'АО', 'КРАЙ.', '-', 'Г', 'Г.', 'АОБЛ', 'РЕСПУБЛИКА',\n",
    "    'ОКРУГ', 'АВТОНОМНЫЙ']\n",
    "\n",
    "data.monthly_income.fillna(data.monthly_income.median(), inplace=True)\n",
    "data.living_region.fillna('Н', inplace=True)\n",
    "data.credit_count.fillna(-1, inplace=True)\n",
    "data.overdue_credit_count.fillna(-1, inplace=True)\n",
    "data['credit_sum'] = data.credit_sum.apply(lambda x: float(x.replace(',', '.')))\n",
    "data['score_shk'] = data.score_shk.apply(lambda x: float(x.replace(',', '.')))\n",
    "data['living_region'] = data.living_region.apply(lambda x: ''.join([y for y in x.split() if y not in a]))\n",
    "\n",
    "data_test.monthly_income.fillna(data.monthly_income.median(), inplace=True)\n",
    "data_test.living_region.fillna('Н', inplace=True)\n",
    "data_test.credit_count.fillna(-1, inplace=True)\n",
    "data_test.overdue_credit_count.fillna(-1, inplace=True)\n",
    "data_test['credit_sum'] = data_test.credit_sum.apply(lambda x: float(x.replace(',', '.')))\n",
    "data_test['score_shk'] = data_test.score_shk.apply(lambda x: float(x.replace(',', '.')))\n",
    "data_test['living_region'] = data_test.living_region.apply(lambda x: ''.join([y for y in x.split() if y not in a]))\n",
    "\n",
    "\n",
    "c = data_test.living_region.unique()\n",
    "d = data.living_region.unique()\n",
    "for elem in c:\n",
    "    if elem not in d:\n",
    "        data_test.loc[data_test.living_region == elem, 'living_region'] = 'Н'"
   ]
  },
  {
   "cell_type": "code",
   "execution_count": 4,
   "metadata": {
    "collapsed": false
   },
   "outputs": [],
   "source": [
    "counters_cols = ['gender', 'marital_status', 'job_position', 'credit_month', 'tariff_id', \n",
    "                'education', 'living_region', 'age', 'credit_count', 'overdue_credit_count', 'age_group']\n",
    "other_cols = ['credit_sum', 'score_shk', 'monthly_income']\n",
    "\n",
    "# Объединим редко встречающиеся значения признаков\n",
    "data.loc[data.credit_count > 7, 'credit_count'] = 7\n",
    "data_test.loc[data_test.credit_count > 7, 'credit_count'] = 7\n",
    "data.loc[data.overdue_credit_count > 2, 'credit_count'] = 2\n",
    "data_test.loc[data_test.credit_count > 2, 'credit_count'] = 2\n",
    "\n",
    "compress_vals(data, data_test, 'living_region', 30, 'Н')\n",
    "compress_vals(data, data_test, 'tariff_id', 30, 2.0)\n",
    "compress_vals(data, data_test, 'job_position', 30, 'N')\n",
    "\n",
    "data['age_group'] = 0\n",
    "data_test['age_group'] = 0\n",
    "a = [range(18, 22), range(22, 25), range(25, 38), range(38, 50), range(50, 58), range(58, 66), range(66, 100)]\n",
    "for i in range(len(a)):\n",
    "    for val in a[i]:\n",
    "        data.loc[data.age == val, 'age_group'] = i\n",
    "        data_test.loc[data_test.age == val, 'age_group'] = i\n",
    "\n",
    "replace_val(data, 'credit_month', [30, 31, 32], 36)\n",
    "replace_val(data_test, 'credit_month', [30, 31, 32], 36)\n",
    "replace_val(data, 'credit_month', [21, 22, 23, 25, 26, 27, 28, 29], 24)\n",
    "replace_val(data_test, 'credit_month', [21, 22, 23, 25, 26, 27, 28, 29], 24)\n",
    "replace_val(data, 'credit_month', [17], 18)\n",
    "replace_val(data_test, 'credit_month', [17], 18)\n",
    "\n",
    "#пары признаков\n",
    "pairs_to_col = ['gender', 'marital_status', 'credit_count', 'overdue_credit_count', 'age_group', 'job_position',\n",
    "    'education']\n",
    "\n",
    "data, pair_cols = make_pairs(data, pairs_to_col)\n",
    "data_test, pair_cols = make_pairs(data_test, pairs_to_col)\n",
    "\n",
    "for col in pair_cols:\n",
    "    compress_vals(data, data_test, col, 30, 'N')"
   ]
  },
  {
   "cell_type": "code",
   "execution_count": 5,
   "metadata": {
    "collapsed": false
   },
   "outputs": [],
   "source": [
    "#счетчики\n",
    "X_train = np.hstack((make_counters(X=data[counters_cols + pair_cols].values, y=data.open_account_flg.values, \n",
    "                                   n_folds=20), data[other_cols]))\n",
    "X_test = np.hstack((make_counters_test(data_test[counters_cols + pair_cols].values, data[counters_cols + pair_cols].values, \n",
    "                                       data.open_account_flg.values), data_test[other_cols]))"
   ]
  },
  {
   "cell_type": "code",
   "execution_count": 7,
   "metadata": {
    "collapsed": true
   },
   "outputs": [],
   "source": [
    "pickle_save(X_train, 'data/X_train.pkl')\n",
    "pickle_save(X_test, 'data/X_test.pkl')\n",
    "pickle_save(data_test.client_id.values, 'data/_ID_.pkl')\n",
    "pickle_save(data.open_account_flg.values, 'data/y_train.pkl')"
   ]
  }
 ],
 "metadata": {
  "anaconda-cloud": {},
  "kernelspec": {
   "display_name": "Python [default]",
   "language": "python",
   "name": "python3"
  },
  "language_info": {
   "codemirror_mode": {
    "name": "ipython",
    "version": 3
   },
   "file_extension": ".py",
   "mimetype": "text/x-python",
   "name": "python",
   "nbconvert_exporter": "python",
   "pygments_lexer": "ipython3",
   "version": "3.5.2"
  }
 },
 "nbformat": 4,
 "nbformat_minor": 1
}
